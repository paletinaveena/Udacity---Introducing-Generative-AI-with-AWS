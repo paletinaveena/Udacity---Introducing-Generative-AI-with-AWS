{
 "cells": [
  {
   "cell_type": "code",
   "execution_count": 1,
   "id": "59262b9f",
   "metadata": {},
   "outputs": [],
   "source": [
    "# Simple Customer Support Chatbot\n",
    "\n",
    "responses = {\n",
    "    \"hello\": \"Hi! Welcome to TechGadget Support. How can I assist you today?\",\n",
    "    \"do you have smartwatches\": \"Yes, we have a variety of smartwatches. You can check them out on our products page\",\n",
    "    \"shipping time\": \"Shipping usually takes 3-5 business days.\",\n",
    "    \"shipping methods\": \"We offer standard, expedited, and overnight shipping.\",\n",
    "    \"return policy\": \"You can return products within 30 days of receipt for a full refund.\",\n",
    "    \"how to return\": \"To return a product, please visit our returns page for a step-by-step guide.\",\n",
    "    \"won't turn on\": \"Make sure your gadget is charged. If it still won't turn on, you can visit our troubleshooting.\",\n",
    "    \"reset device\": \"To reset your device, hold down the power button for 10 seconds.\",\n",
    "    \"bye\": \"Thank you for visiting TechGadget. If you have more questions, feel free to ask. Goodbye!\",\n",
    "}"
   ]
  },
  {
   "cell_type": "code",
   "execution_count": 2,
   "id": "fcedb534",
   "metadata": {},
   "outputs": [],
   "source": [
    "def get_bot_response(user_input):\n",
    "    user_input = user_input. lower ()\n",
    "    for keyword, response in responses.items () :\n",
    "        if keyword in user_input:\n",
    "            return response\n",
    "    return \"I'm not sure how to respond to that. Can you try asking something else?\" "
   ]
  },
  {
   "cell_type": "code",
   "execution_count": 3,
   "id": "96753ab1",
   "metadata": {},
   "outputs": [
    {
     "name": "stdout",
     "output_type": "stream",
     "text": [
      "You: Hello\n",
      "Bot: Hi! Welcome to TechGadget Support. How can I assist you today?\n",
      "You: What is today's weather?\n",
      "Bot: I'm not sure how to respond to that. Can you try asking something else?\n",
      "You: What are your shipping methods?\n",
      "Bot: We offer standard, expedited, and overnight shipping.\n",
      "You: How to reset device?\n",
      "Bot: To reset your device, hold down the power button for 10 seconds.\n",
      "You: bye\n",
      "Bot: Goodbye! If you have any more questions, we're here to help.\n"
     ]
    }
   ],
   "source": [
    "while True:\n",
    "    user_input = input (\"You: \")\n",
    "    if user_input. lower() in [\"quit\", \"exit\", \"bye\"]:\n",
    "        print(\"Bot: Goodbye! If you have any more questions, we're here to help.\")\n",
    "        break\n",
    "    response = get_bot_response(user_input)\n",
    "    print(f\"Bot: {response}\")"
   ]
  },
  {
   "cell_type": "code",
   "execution_count": null,
   "id": "d83117ae",
   "metadata": {},
   "outputs": [],
   "source": []
  }
 ],
 "metadata": {
  "kernelspec": {
   "display_name": "conda_python3",
   "language": "python",
   "name": "conda_python3"
  },
  "language_info": {
   "codemirror_mode": {
    "name": "ipython",
    "version": 3
   },
   "file_extension": ".py",
   "mimetype": "text/x-python",
   "name": "python",
   "nbconvert_exporter": "python",
   "pygments_lexer": "ipython3",
   "version": "3.10.13"
  }
 },
 "nbformat": 4,
 "nbformat_minor": 5
}
